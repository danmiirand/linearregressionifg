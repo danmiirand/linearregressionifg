{
  "cells": [
    {
      "cell_type": "code",
      "execution_count": 1,
      "metadata": {
        "id": "TPnNNJmiJodL"
      },
      "outputs": [
        {
          "ename": "ModuleNotFoundError",
          "evalue": "No module named 'xgboost'",
          "output_type": "error",
          "traceback": [
            "\u001b[0;31m---------------------------------------------------------------------------\u001b[0m",
            "\u001b[0;31mModuleNotFoundError\u001b[0m                       Traceback (most recent call last)",
            "\u001b[1;32m/workspaces/linearregressionifg/Teste_AtividadeGrupo_MelhorResultado.ipynb Cell 1\u001b[0m line \u001b[0;36m2\n\u001b[1;32m     <a href='vscode-notebook-cell://codespaces%2Bcuddly-waffle-xp4j6xx65pqh9vgw/workspaces/linearregressionifg/Teste_AtividadeGrupo_MelhorResultado.ipynb#W0sdnNjb2RlLXJlbW90ZQ%3D%3D?line=19'>20</a>\u001b[0m \u001b[39mfrom\u001b[39;00m \u001b[39msklearn\u001b[39;00m\u001b[39m.\u001b[39;00m\u001b[39mimpute\u001b[39;00m \u001b[39mimport\u001b[39;00m KNNImputer\n\u001b[1;32m     <a href='vscode-notebook-cell://codespaces%2Bcuddly-waffle-xp4j6xx65pqh9vgw/workspaces/linearregressionifg/Teste_AtividadeGrupo_MelhorResultado.ipynb#W0sdnNjb2RlLXJlbW90ZQ%3D%3D?line=20'>21</a>\u001b[0m \u001b[39mfrom\u001b[39;00m \u001b[39msklearn\u001b[39;00m\u001b[39m.\u001b[39;00m\u001b[39mimpute\u001b[39;00m \u001b[39mimport\u001b[39;00m SimpleImputer\n\u001b[0;32m---> <a href='vscode-notebook-cell://codespaces%2Bcuddly-waffle-xp4j6xx65pqh9vgw/workspaces/linearregressionifg/Teste_AtividadeGrupo_MelhorResultado.ipynb#W0sdnNjb2RlLXJlbW90ZQ%3D%3D?line=21'>22</a>\u001b[0m \u001b[39mimport\u001b[39;00m \u001b[39mxgboost\u001b[39;00m \u001b[39mas\u001b[39;00m \u001b[39mxgb\u001b[39;00m\n\u001b[1;32m     <a href='vscode-notebook-cell://codespaces%2Bcuddly-waffle-xp4j6xx65pqh9vgw/workspaces/linearregressionifg/Teste_AtividadeGrupo_MelhorResultado.ipynb#W0sdnNjb2RlLXJlbW90ZQ%3D%3D?line=22'>23</a>\u001b[0m \u001b[39m#from catboost import CatBoostRegressor\u001b[39;00m\n\u001b[1;32m     <a href='vscode-notebook-cell://codespaces%2Bcuddly-waffle-xp4j6xx65pqh9vgw/workspaces/linearregressionifg/Teste_AtividadeGrupo_MelhorResultado.ipynb#W0sdnNjb2RlLXJlbW90ZQ%3D%3D?line=23'>24</a>\u001b[0m \u001b[39mfrom\u001b[39;00m \u001b[39mnumpy\u001b[39;00m \u001b[39mimport\u001b[39;00m mean\n",
            "\u001b[0;31mModuleNotFoundError\u001b[0m: No module named 'xgboost'"
          ]
        }
      ],
      "source": [
        "import pandas as pd\n",
        "import numpy as np\n",
        "import seaborn as sns\n",
        "import matplotlib.pyplot as plt\n",
        "from pandas import DataFrame\n",
        "from sklearn.linear_model import LinearRegression, Ridge, Lasso, ElasticNet\n",
        "from sklearn.svm import SVR\n",
        "from sklearn.ensemble import GradientBoostingRegressor\n",
        "from sklearn.neighbors import KNeighborsRegressor\n",
        "from sklearn.model_selection import GridSearchCV\n",
        "from sklearn.model_selection import cross_val_score\n",
        "from sklearn.model_selection import StratifiedKFold\n",
        "from sklearn.preprocessing import RobustScaler, StandardScaler, LabelEncoder, MinMaxScaler, MaxAbsScaler, OneHotEncoder\n",
        "from sklearn.ensemble import RandomForestRegressor\n",
        "from sklearn.tree import DecisionTreeRegressor\n",
        "from sklearn.metrics import mean_absolute_error, mean_squared_error, r2_score\n",
        "from sklearn.pipeline import Pipeline\n",
        "from sklearn.model_selection import train_test_split\n",
        "from sklearn.compose import ColumnTransformer\n",
        "from sklearn.impute import KNNImputer\n",
        "from sklearn.impute import SimpleImputer\n",
        "import xgboost as xgb\n",
        "#from catboost import CatBoostRegressor\n",
        "from numpy import mean\n",
        "from numpy import std"
      ]
    },
    {
      "cell_type": "code",
      "execution_count": null,
      "metadata": {
        "id": "oxteuJioJtar"
      },
      "outputs": [],
      "source": [
        "casas = pd.read_csv(\"kc_house_data.csv\")\n",
        "\n",
        "casas.drop(['id'],axis=1,inplace=True)\n",
        "casas.drop(['date'],axis=1,inplace=True)\n"
      ]
    },
    {
      "cell_type": "code",
      "execution_count": null,
      "metadata": {
        "colab": {
          "base_uri": "https://localhost:8080/"
        },
        "id": "iGQASSx6JwMV",
        "outputId": "5936880f-d7f2-4483-f5c1-e0cecb43bba7"
      },
      "outputs": [
        {
          "name": "stdout",
          "output_type": "stream",
          "text": [
            "Mean Squared Error (MSE): 17060347063.674498\n",
            "R2 (Test) : 0.8720480558642185\n",
            "R2 (Training) : 0.9814984396131553\n"
          ]
        }
      ],
      "source": [
        "def create_model(data, target, algo, scaler=None):\n",
        "\tif scaler != None:\n",
        "\t\tX = scaler.fit_transform(data)\n",
        "\telse:\n",
        "\t\tX = data\n",
        "\ty = target\n",
        "\tX_train, X_test, y_train, y_test = train_test_split(X, y, test_size=0.33, random_state=10)\n",
        "\tmodel = algo\n",
        "\tmodel.fit(X_train, y_train)\n",
        "\treturn(model, X_train, X_test, y_train, y_test)\n",
        "\n",
        "casas = casas.drop_duplicates()\n",
        "\n",
        "condition = (casas['sqft_living'] > casas['sqft_lot']) & (casas['floors'] == 1)\n",
        "for index, row in casas[condition].iterrows():\n",
        "    casas.at[index, 'sqft_living'] = row['sqft_living15']\n",
        "    casas.at[index, 'sqft_lot'] = row['sqft_lot15']\n",
        "\n",
        "condition = (casas['sqft_living15'] > casas['sqft_lot15']) & (casas['floors'] == 1)\n",
        "for index, row in casas[condition].iterrows():\n",
        "    casas.at[index, 'sqft_living15'] = row['sqft_living']\n",
        "    casas.at[index, 'sqft_lot15'] = row['sqft_lot']\n",
        "\n",
        "scaler = MinMaxScaler()\n",
        "casas['bedrooms'] = scaler.fit_transform(casas[['bedrooms']])\n",
        "casas['grade'] = scaler.fit_transform(casas[['grade']])\n",
        "casas['bathrooms'] = scaler.fit_transform(casas[['bathrooms']])\n",
        "casas['floors'] = scaler.fit_transform(casas[['floors']])\n",
        "casas['view'] = scaler.fit_transform(casas[['view']])\n",
        "casas['sqft_above'] = scaler.fit_transform(casas[['sqft_above']])\n",
        "casas['yr_built'] = scaler.fit_transform(casas[['yr_built']])\n",
        "casas['sqft_living'] = scaler.fit_transform(casas[['sqft_living']])\n",
        "casas['sqft_lot'] = scaler.fit_transform(casas[['sqft_lot']])\n",
        "casas['sqft_living15'] = scaler.fit_transform(casas[['sqft_living15']])\n",
        "casas['sqft_lot15'] = scaler.fit_transform(casas[['sqft_lot15']])\n",
        "casas['condition'] = scaler.fit_transform(casas[['condition']])\n",
        "casas['sqft_basement'] = scaler.fit_transform(casas[['sqft_basement']])\n",
        "casas['yr_renovated'] = scaler.fit_transform(casas[['yr_renovated']])\n",
        "casas['zipcode'] = scaler.fit_transform(casas[['zipcode']])\n",
        "casas['lat'] = scaler.fit_transform(casas[['lat']])\n",
        "casas['long'] = scaler.fit_transform(casas[['long']])\n",
        "\n",
        "# Especificar colunas de features (X) e coluna alvo (y)\n",
        "features = casas.drop(\"price\", axis=1)  # Remova a coluna alvo \"price\" das features\n",
        "target = casas[\"price\"]\n",
        "\n",
        "# Testando diversos regressores\n",
        "modelo, X_train, X_test, y_train, y_test = create_model(features, target, RandomForestRegressor(), scaler=None)\n",
        "#modelo, X_train, X_test, y_train, y_test = create_model(features, target, LinearRegression(), scaler=None)\n",
        "#modelo, X_train, X_test, y_train, y_test = create_model(features, target, SVR(), scaler=None)\n",
        "#modelo, X_train, X_test, y_train, y_test = create_model(features, target, GradientBoostingRegressor(), scaler=None)\n",
        "#modelo, X_train, X_test, y_train, y_test = create_model(features, target, KNeighborsRegressor(), scaler=None)\n",
        "#modelo, X_train, X_test, y_train, y_test = create_model(features, target, Lasso(), scaler=None)\n",
        "#modelo, X_train, X_test, y_train, y_test = create_model(features, target, Ridge(), scaler=None)\n",
        "#modelo, X_train, X_test, y_train, y_test = create_model(features, target, ElasticNet(), scaler=None)\n",
        "\n",
        "previsoes = modelo.predict(X_test)\n",
        "mse = mean_squared_error(y_test, previsoes)\n",
        "print(f'Mean Squared Error (MSE): {mse}')\n",
        "\n",
        "y_pred = modelo.predict(X_test)\n",
        "print(f'R2 (Test) : {r2_score(y_test, y_pred)}')\n",
        "print(f'R2 (Training) : {r2_score(y_true=y_train, y_pred=modelo.predict(X_train))}')"
      ]
    }
  ],
  "metadata": {
    "colab": {
      "provenance": []
    },
    "kernelspec": {
      "display_name": "Python 3",
      "name": "python3"
    },
    "language_info": {
      "codemirror_mode": {
        "name": "ipython",
        "version": 3
      },
      "file_extension": ".py",
      "mimetype": "text/x-python",
      "name": "python",
      "nbconvert_exporter": "python",
      "pygments_lexer": "ipython3",
      "version": "3.10.8"
    }
  },
  "nbformat": 4,
  "nbformat_minor": 0
}
