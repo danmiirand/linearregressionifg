{
  "cells": [
    {
      "cell_type": "code",
      "execution_count": 5,
      "metadata": {
        "id": "TPnNNJmiJodL"
      },
      "outputs": [
        {
          "name": "stdout",
          "output_type": "stream",
          "text": [
            "Collecting xgboost\n",
            "  Downloading xgboost-2.0.2-py3-none-manylinux2014_x86_64.whl.metadata (2.0 kB)\n",
            "Requirement already satisfied: numpy in /home/codespace/.local/lib/python3.10/site-packages (from xgboost) (1.26.1)\n",
            "Requirement already satisfied: scipy in /home/codespace/.local/lib/python3.10/site-packages (from xgboost) (1.11.3)\n",
            "Downloading xgboost-2.0.2-py3-none-manylinux2014_x86_64.whl (297.1 MB)\n",
            "\u001b[2K   \u001b[90m━━━━━━━━━━━━━━━━━━━━━━━━━━━━━━━━━━━━━━━━\u001b[0m \u001b[32m297.1/297.1 MB\u001b[0m \u001b[31m8.0 MB/s\u001b[0m eta \u001b[36m0:00:00\u001b[0m:00:01\u001b[0m00:01\u001b[0m\n",
            "\u001b[?25hInstalling collected packages: xgboost\n",
            "Successfully installed xgboost-2.0.2\n"
          ]
        }
      ],
      "source": [
        "!pip install xgboost"
      ]
    },
    {
      "cell_type": "code",
      "execution_count": null,
      "metadata": {},
      "outputs": [],
      "source": [
        "import pandas as pd\n",
        "import numpy as np\n",
        "import seaborn as sns\n",
        "import matplotlib.pyplot as plt\n",
        "from pandas import DataFrame\n",
        "from sklearn.linear_model import LinearRegression, Ridge, Lasso, ElasticNet\n",
        "from sklearn.svm import SVR\n",
        "from sklearn.ensemble import GradientBoostingRegressor\n",
        "from sklearn.neighbors import KNeighborsRegressor\n",
        "from sklearn.model_selection import GridSearchCV\n",
        "from sklearn.model_selection import cross_val_score\n",
        "from sklearn.model_selection import StratifiedKFold\n",
        "from sklearn.preprocessing import RobustScaler, StandardScaler, LabelEncoder, MinMaxScaler, MaxAbsScaler, OneHotEncoder\n",
        "from sklearn.ensemble import RandomForestRegressor\n",
        "from sklearn.tree import DecisionTreeRegressor\n",
        "from sklearn.metrics import mean_absolute_error, mean_squared_error, r2_score\n",
        "from sklearn.pipeline import Pipeline\n",
        "from sklearn.model_selection import train_test_split\n",
        "from sklearn.compose import ColumnTransformer\n",
        "from sklearn.impute import KNNImputer\n",
        "from sklearn.impute import SimpleImputer\n",
        "import xgboost as xgb\n",
        "#from catboost import CatBoostRegressor\n",
        "from numpy import mean\n",
        "from numpy import std"
      ]
    },
    {
      "cell_type": "code",
      "execution_count": null,
      "metadata": {
        "id": "oxteuJioJtar"
      },
      "outputs": [],
      "source": [
        "casas = pd.read_csv(\"kc_house_data.csv\")\n",
        "\n",
        "casas.drop(['id'],axis=1,inplace=True)\n",
        "casas.drop(['date'],axis=1,inplace=True)\n"
      ]
    },
    {
      "cell_type": "code",
      "execution_count": null,
      "metadata": {
        "colab": {
          "base_uri": "https://localhost:8080/"
        },
        "id": "iGQASSx6JwMV",
        "outputId": "5936880f-d7f2-4483-f5c1-e0cecb43bba7"
      },
      "outputs": [
        {
          "name": "stdout",
          "output_type": "stream",
          "text": [
            "Mean Squared Error (MSE): 17060347063.674498\n",
            "R2 (Test) : 0.8720480558642185\n",
            "R2 (Training) : 0.9814984396131553\n"
          ]
        }
      ],
      "source": [
        "def create_model(data, target, algo, scaler=None):\n",
        "\tif scaler != None:\n",
        "\t\tX = scaler.fit_transform(data)\n",
        "\telse:\n",
        "\t\tX = data\n",
        "\ty = target\n",
        "\tX_train, X_test, y_train, y_test = train_test_split(X, y, test_size=0.33, random_state=10)\n",
        "\tmodel = algo\n",
        "\tmodel.fit(X_train, y_train)\n",
        "\treturn(model, X_train, X_test, y_train, y_test)\n",
        "\n",
        "casas = casas.drop_duplicates()\n",
        "\n",
        "condition = (casas['sqft_living'] > casas['sqft_lot']) & (casas['floors'] == 1)\n",
        "for index, row in casas[condition].iterrows():\n",
        "    casas.at[index, 'sqft_living'] = row['sqft_living15']\n",
        "    casas.at[index, 'sqft_lot'] = row['sqft_lot15']\n",
        "\n",
        "condition = (casas['sqft_living15'] > casas['sqft_lot15']) & (casas['floors'] == 1)\n",
        "for index, row in casas[condition].iterrows():\n",
        "    casas.at[index, 'sqft_living15'] = row['sqft_living']\n",
        "    casas.at[index, 'sqft_lot15'] = row['sqft_lot']\n",
        "\n",
        "scaler = MinMaxScaler()\n",
        "casas['bedrooms'] = scaler.fit_transform(casas[['bedrooms']])\n",
        "casas['grade'] = scaler.fit_transform(casas[['grade']])\n",
        "casas['bathrooms'] = scaler.fit_transform(casas[['bathrooms']])\n",
        "casas['floors'] = scaler.fit_transform(casas[['floors']])\n",
        "casas['view'] = scaler.fit_transform(casas[['view']])\n",
        "casas['sqft_above'] = scaler.fit_transform(casas[['sqft_above']])\n",
        "casas['yr_built'] = scaler.fit_transform(casas[['yr_built']])\n",
        "casas['sqft_living'] = scaler.fit_transform(casas[['sqft_living']])\n",
        "casas['sqft_lot'] = scaler.fit_transform(casas[['sqft_lot']])\n",
        "casas['sqft_living15'] = scaler.fit_transform(casas[['sqft_living15']])\n",
        "casas['sqft_lot15'] = scaler.fit_transform(casas[['sqft_lot15']])\n",
        "casas['condition'] = scaler.fit_transform(casas[['condition']])\n",
        "casas['sqft_basement'] = scaler.fit_transform(casas[['sqft_basement']])\n",
        "casas['yr_renovated'] = scaler.fit_transform(casas[['yr_renovated']])\n",
        "casas['zipcode'] = scaler.fit_transform(casas[['zipcode']])\n",
        "casas['lat'] = scaler.fit_transform(casas[['lat']])\n",
        "casas['long'] = scaler.fit_transform(casas[['long']])\n",
        "\n",
        "# Especificar colunas de features (X) e coluna alvo (y)\n",
        "features = casas.drop(\"price\", axis=1)  # Remova a coluna alvo \"price\" das features\n",
        "target = casas[\"price\"]\n",
        "\n",
        "# Testando diversos regressores\n",
        "modelo, X_train, X_test, y_train, y_test = create_model(features, target, RandomForestRegressor(), scaler=None)\n",
        "#modelo, X_train, X_test, y_train, y_test = create_model(features, target, LinearRegression(), scaler=None)\n",
        "#modelo, X_train, X_test, y_train, y_test = create_model(features, target, SVR(), scaler=None)\n",
        "#modelo, X_train, X_test, y_train, y_test = create_model(features, target, GradientBoostingRegressor(), scaler=None)\n",
        "#modelo, X_train, X_test, y_train, y_test = create_model(features, target, KNeighborsRegressor(), scaler=None)\n",
        "#modelo, X_train, X_test, y_train, y_test = create_model(features, target, Lasso(), scaler=None)\n",
        "#modelo, X_train, X_test, y_train, y_test = create_model(features, target, Ridge(), scaler=None)\n",
        "#modelo, X_train, X_test, y_train, y_test = create_model(features, target, ElasticNet(), scaler=None)\n",
        "\n",
        "previsoes = modelo.predict(X_test)\n",
        "mse = mean_squared_error(y_test, previsoes)\n",
        "print(f'Mean Squared Error (MSE): {mse}')\n",
        "\n",
        "y_pred = modelo.predict(X_test)\n",
        "print(f'R2 (Test) : {r2_score(y_test, y_pred)}')\n",
        "print(f'R2 (Training) : {r2_score(y_true=y_train, y_pred=modelo.predict(X_train))}')"
      ]
    }
  ],
  "metadata": {
    "colab": {
      "provenance": []
    },
    "kernelspec": {
      "display_name": "Python 3",
      "name": "python3"
    },
    "language_info": {
      "codemirror_mode": {
        "name": "ipython",
        "version": 3
      },
      "file_extension": ".py",
      "mimetype": "text/x-python",
      "name": "python",
      "nbconvert_exporter": "python",
      "pygments_lexer": "ipython3",
      "version": "3.10.8"
    }
  },
  "nbformat": 4,
  "nbformat_minor": 0
}
